{
 "cells": [
  {
   "cell_type": "code",
   "execution_count": null,
   "metadata": {},
   "outputs": [],
   "source": [
    "import pandas as pd\n",
    "import simpy"
   ]
  },
  {
   "cell_type": "code",
   "execution_count": null,
   "metadata": {},
   "outputs": [],
   "source": [
    "base_dados = pd.read_csv(\"DoaçãoRim.csv\", sep=\",\")\n",
    "\n",
    "display(base_dados)"
   ]
  },
  {
   "attachments": {},
   "cell_type": "markdown",
   "metadata": {},
   "source": [
    "## Mantendo apenas os dados que serão utilizados "
   ]
  },
  {
   "cell_type": "code",
   "execution_count": null,
   "metadata": {},
   "outputs": [],
   "source": [
    "remover = base_dados.drop(columns=[\"age_cat\",\"time_on_Dialysis\",\"prior_transplant\",\"date_acutal\",\"Time_death\",\"Transplant_Y_N\",\"X36MthsTx\",\"Time_Tx\",\"event\",\"razon_removed\"])\n",
    "\n",
    "remover.head()"
   ]
  },
  {
   "cell_type": "code",
   "execution_count": null,
   "metadata": {},
   "outputs": [],
   "source": [
    "base_dados = pd.DataFrame(base_dados['date'])\n",
    "vetor = base_dados.value_counts\n",
    "print(vetor)\n"
   ]
  },
  {
   "cell_type": "code",
   "execution_count": null,
   "metadata": {},
   "outputs": [],
   "source": [
    "\n",
    "\n",
    "\n",
    "def fila(env, recurso, paciente, saida, chegada, prioridade):\n",
    "    yield env.timeout(chegada)\n",
    "    yield env.timeout(saida)\n",
    "    if saida != 0:\n",
    "        print(paciente, 'saiu da fila em', saida)\n",
    "    else:\n",
    "        with recurso.request(priority=prioridade) as req:\n",
    "            yield req\n",
    "            print(paciente, 'atendida em', env.now)\n",
    "            yield env.timeout(5)\n",
    "            print(paciente, 'saiu do atendimento em', env.now)\n",
    "\n",
    "env = simpy.Environment()\n",
    "recurso = simpy.PriorityResource(env, capacity=1)\n",
    "\n",
    "env.process(fila(env, recurso, 'Maria', 0, 0, 0))\n",
    "env.process(fila(env, recurso, 'Paula', 2, 2, 1))\n",
    "env.process(fila(env, recurso, 'Paulo', 6, 4, 1))\n",
    "env.process(fila(env, recurso, 'Alana', 0, 0, 1))\n",
    "env.process(fila(env, recurso, 'Sandra', 0, 0, 0))\n",
    "\n",
    "env.run()\n",
    "\n"
   ]
  }
 ],
 "metadata": {
  "kernelspec": {
   "display_name": "Python 3",
   "language": "python",
   "name": "python3"
  },
  "language_info": {
   "codemirror_mode": {
    "name": "ipython",
    "version": 3
   },
   "file_extension": ".py",
   "mimetype": "text/x-python",
   "name": "python",
   "nbconvert_exporter": "python",
   "pygments_lexer": "ipython3",
   "version": "3.11.4"
  },
  "orig_nbformat": 4
 },
 "nbformat": 4,
 "nbformat_minor": 2
}
